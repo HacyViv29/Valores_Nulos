{
 "cells": [
  {
   "cell_type": "code",
   "execution_count": 244,
   "metadata": {},
   "outputs": [],
   "source": [
    "import pandas as pd\n",
    "import numpy as np\n",
    "import matplotlib.pyplot as plt"
   ]
  },
  {
   "cell_type": "code",
   "execution_count": 245,
   "metadata": {},
   "outputs": [
    {
     "data": {
      "text/html": [
       "<div>\n",
       "<style scoped>\n",
       "    .dataframe tbody tr th:only-of-type {\n",
       "        vertical-align: middle;\n",
       "    }\n",
       "\n",
       "    .dataframe tbody tr th {\n",
       "        vertical-align: top;\n",
       "    }\n",
       "\n",
       "    .dataframe thead th {\n",
       "        text-align: right;\n",
       "    }\n",
       "</style>\n",
       "<table border=\"1\" class=\"dataframe\">\n",
       "  <thead>\n",
       "    <tr style=\"text-align: right;\">\n",
       "      <th></th>\n",
       "      <th>id</th>\n",
       "      <th>listing_url</th>\n",
       "      <th>scrape_id</th>\n",
       "      <th>last_scraped</th>\n",
       "      <th>source</th>\n",
       "      <th>name</th>\n",
       "      <th>description</th>\n",
       "      <th>neighborhood_overview</th>\n",
       "      <th>picture_url</th>\n",
       "      <th>host_id</th>\n",
       "      <th>...</th>\n",
       "      <th>review_scores_communication</th>\n",
       "      <th>review_scores_location</th>\n",
       "      <th>review_scores_value</th>\n",
       "      <th>license</th>\n",
       "      <th>instant_bookable</th>\n",
       "      <th>calculated_host_listings_count</th>\n",
       "      <th>calculated_host_listings_count_entire_homes</th>\n",
       "      <th>calculated_host_listings_count_private_rooms</th>\n",
       "      <th>calculated_host_listings_count_shared_rooms</th>\n",
       "      <th>reviews_per_month</th>\n",
       "    </tr>\n",
       "  </thead>\n",
       "  <tbody>\n",
       "    <tr>\n",
       "      <th>0</th>\n",
       "      <td>10595</td>\n",
       "      <td>https://www.airbnb.com/rooms/10595</td>\n",
       "      <td>20240923040840</td>\n",
       "      <td>2024-09-23</td>\n",
       "      <td>city scrape</td>\n",
       "      <td>3 bedrooms, 2 bathrooms, 2nd floor with elevator</td>\n",
       "      <td>The apartment is 3-bedroom apartment with 2-ba...</td>\n",
       "      <td>Ampelokipi district is nice multinational and ...</td>\n",
       "      <td>https://a0.muscache.com/pictures/hosting/Hosti...</td>\n",
       "      <td>37177</td>\n",
       "      <td>...</td>\n",
       "      <td>4.91</td>\n",
       "      <td>4.58</td>\n",
       "      <td>4.75</td>\n",
       "      <td>00002433180</td>\n",
       "      <td>t</td>\n",
       "      <td>7</td>\n",
       "      <td>7</td>\n",
       "      <td>0</td>\n",
       "      <td>0</td>\n",
       "      <td>0.33</td>\n",
       "    </tr>\n",
       "    <tr>\n",
       "      <th>1</th>\n",
       "      <td>10990</td>\n",
       "      <td>https://www.airbnb.com/rooms/10990</td>\n",
       "      <td>20240923040840</td>\n",
       "      <td>2024-09-23</td>\n",
       "      <td>city scrape</td>\n",
       "      <td>Athens Quality Apartments - Deluxe Apartment</td>\n",
       "      <td>Athens Quality Apartments - Deluxe apartment i...</td>\n",
       "      <td>Ampelokipi district is nice multinational and ...</td>\n",
       "      <td>https://a0.muscache.com/pictures/miso/Hosting-...</td>\n",
       "      <td>37177</td>\n",
       "      <td>...</td>\n",
       "      <td>4.90</td>\n",
       "      <td>4.80</td>\n",
       "      <td>4.75</td>\n",
       "      <td>00002433169</td>\n",
       "      <td>t</td>\n",
       "      <td>7</td>\n",
       "      <td>7</td>\n",
       "      <td>0</td>\n",
       "      <td>0</td>\n",
       "      <td>0.56</td>\n",
       "    </tr>\n",
       "    <tr>\n",
       "      <th>2</th>\n",
       "      <td>10993</td>\n",
       "      <td>https://www.airbnb.com/rooms/10993</td>\n",
       "      <td>20240923040840</td>\n",
       "      <td>2024-09-23</td>\n",
       "      <td>city scrape</td>\n",
       "      <td>Athens Quality Apartments - Studio</td>\n",
       "      <td>The Studio is an &lt;br /&gt;-excellent located &lt;br ...</td>\n",
       "      <td>Ampelokipi district is nice multinational and ...</td>\n",
       "      <td>https://a0.muscache.com/pictures/107309527/848...</td>\n",
       "      <td>37177</td>\n",
       "      <td>...</td>\n",
       "      <td>4.97</td>\n",
       "      <td>4.79</td>\n",
       "      <td>4.78</td>\n",
       "      <td>00002433010</td>\n",
       "      <td>t</td>\n",
       "      <td>7</td>\n",
       "      <td>7</td>\n",
       "      <td>0</td>\n",
       "      <td>0</td>\n",
       "      <td>0.73</td>\n",
       "    </tr>\n",
       "    <tr>\n",
       "      <th>3</th>\n",
       "      <td>10995</td>\n",
       "      <td>https://www.airbnb.com/rooms/10995</td>\n",
       "      <td>20240923040840</td>\n",
       "      <td>2024-09-23</td>\n",
       "      <td>city scrape</td>\n",
       "      <td>AQA-No2 1-bedroom, smart tv, fiber connection,</td>\n",
       "      <td>AQA No2 is 1-bedroom apartment (47m2), on the ...</td>\n",
       "      <td>Ampelokipi district is nice multinational and ...</td>\n",
       "      <td>https://a0.muscache.com/pictures/hosting/Hosti...</td>\n",
       "      <td>37177</td>\n",
       "      <td>...</td>\n",
       "      <td>4.89</td>\n",
       "      <td>4.82</td>\n",
       "      <td>4.82</td>\n",
       "      <td>00002433153</td>\n",
       "      <td>t</td>\n",
       "      <td>7</td>\n",
       "      <td>7</td>\n",
       "      <td>0</td>\n",
       "      <td>0</td>\n",
       "      <td>0.21</td>\n",
       "    </tr>\n",
       "    <tr>\n",
       "      <th>4</th>\n",
       "      <td>27262</td>\n",
       "      <td>https://www.airbnb.com/rooms/27262</td>\n",
       "      <td>20240923040840</td>\n",
       "      <td>2024-09-23</td>\n",
       "      <td>city scrape</td>\n",
       "      <td>AQA-No7, Great mattress, high speed internet</td>\n",
       "      <td>THE MATTRESS - KING KOIL - Camden Luxury 160x2...</td>\n",
       "      <td>NaN</td>\n",
       "      <td>https://a0.muscache.com/pictures/miso/Hosting-...</td>\n",
       "      <td>37177</td>\n",
       "      <td>...</td>\n",
       "      <td>4.96</td>\n",
       "      <td>4.75</td>\n",
       "      <td>4.71</td>\n",
       "      <td>00002433111</td>\n",
       "      <td>t</td>\n",
       "      <td>7</td>\n",
       "      <td>7</td>\n",
       "      <td>0</td>\n",
       "      <td>0</td>\n",
       "      <td>0.17</td>\n",
       "    </tr>\n",
       "  </tbody>\n",
       "</table>\n",
       "<p>5 rows × 75 columns</p>\n",
       "</div>"
      ],
      "text/plain": [
       "      id                         listing_url       scrape_id last_scraped  \\\n",
       "0  10595  https://www.airbnb.com/rooms/10595  20240923040840   2024-09-23   \n",
       "1  10990  https://www.airbnb.com/rooms/10990  20240923040840   2024-09-23   \n",
       "2  10993  https://www.airbnb.com/rooms/10993  20240923040840   2024-09-23   \n",
       "3  10995  https://www.airbnb.com/rooms/10995  20240923040840   2024-09-23   \n",
       "4  27262  https://www.airbnb.com/rooms/27262  20240923040840   2024-09-23   \n",
       "\n",
       "        source                                              name  \\\n",
       "0  city scrape  3 bedrooms, 2 bathrooms, 2nd floor with elevator   \n",
       "1  city scrape      Athens Quality Apartments - Deluxe Apartment   \n",
       "2  city scrape                Athens Quality Apartments - Studio   \n",
       "3  city scrape    AQA-No2 1-bedroom, smart tv, fiber connection,   \n",
       "4  city scrape      AQA-No7, Great mattress, high speed internet   \n",
       "\n",
       "                                         description  \\\n",
       "0  The apartment is 3-bedroom apartment with 2-ba...   \n",
       "1  Athens Quality Apartments - Deluxe apartment i...   \n",
       "2  The Studio is an <br />-excellent located <br ...   \n",
       "3  AQA No2 is 1-bedroom apartment (47m2), on the ...   \n",
       "4  THE MATTRESS - KING KOIL - Camden Luxury 160x2...   \n",
       "\n",
       "                               neighborhood_overview  \\\n",
       "0  Ampelokipi district is nice multinational and ...   \n",
       "1  Ampelokipi district is nice multinational and ...   \n",
       "2  Ampelokipi district is nice multinational and ...   \n",
       "3  Ampelokipi district is nice multinational and ...   \n",
       "4                                                NaN   \n",
       "\n",
       "                                         picture_url  host_id  ...  \\\n",
       "0  https://a0.muscache.com/pictures/hosting/Hosti...    37177  ...   \n",
       "1  https://a0.muscache.com/pictures/miso/Hosting-...    37177  ...   \n",
       "2  https://a0.muscache.com/pictures/107309527/848...    37177  ...   \n",
       "3  https://a0.muscache.com/pictures/hosting/Hosti...    37177  ...   \n",
       "4  https://a0.muscache.com/pictures/miso/Hosting-...    37177  ...   \n",
       "\n",
       "  review_scores_communication review_scores_location review_scores_value  \\\n",
       "0                        4.91                   4.58                4.75   \n",
       "1                        4.90                   4.80                4.75   \n",
       "2                        4.97                   4.79                4.78   \n",
       "3                        4.89                   4.82                4.82   \n",
       "4                        4.96                   4.75                4.71   \n",
       "\n",
       "       license instant_bookable calculated_host_listings_count  \\\n",
       "0  00002433180                t                              7   \n",
       "1  00002433169                t                              7   \n",
       "2  00002433010                t                              7   \n",
       "3  00002433153                t                              7   \n",
       "4  00002433111                t                              7   \n",
       "\n",
       "  calculated_host_listings_count_entire_homes  \\\n",
       "0                                           7   \n",
       "1                                           7   \n",
       "2                                           7   \n",
       "3                                           7   \n",
       "4                                           7   \n",
       "\n",
       "  calculated_host_listings_count_private_rooms  \\\n",
       "0                                            0   \n",
       "1                                            0   \n",
       "2                                            0   \n",
       "3                                            0   \n",
       "4                                            0   \n",
       "\n",
       "  calculated_host_listings_count_shared_rooms reviews_per_month  \n",
       "0                                           0              0.33  \n",
       "1                                           0              0.56  \n",
       "2                                           0              0.73  \n",
       "3                                           0              0.21  \n",
       "4                                           0              0.17  \n",
       "\n",
       "[5 rows x 75 columns]"
      ]
     },
     "execution_count": 245,
     "metadata": {},
     "output_type": "execute_result"
    }
   ],
   "source": [
    "#Cargar desde un archivo .csv\n",
    "data = pd.read_csv(\"Atenas, Grecia.csv\")\n",
    "data.head()"
   ]
  },
  {
   "cell_type": "code",
   "execution_count": 246,
   "metadata": {},
   "outputs": [],
   "source": [
    "# Lista de columnas que deseas conservar\n",
    "variables_a_conservar = [\n",
    "    \"id\", \"last_scraped\", \"source\", \"name\", \"description\", \"neighborhood_overview\",\n",
    "    \"host_name\", \"host_since\", \"host_location\", \"host_about\", \"host_response_time\",\n",
    "    \"host_response_rate\", \"host_acceptance_rate\", \"host_is_superhost\", \"host_listings_count\",\n",
    "    \"host_total_listings_count\", \"host_verifications\", \"host_identity_verified\",\n",
    "    \"neighbourhood_cleansed\", \"neighbourhood_cleansed\", \"latitude\", \"longitude\",\n",
    "    \"property_type\", \"room_type\", \"accommodates\", \"bathrooms\", \"bathrooms_text\", \"bedrooms\",\n",
    "    \"beds\", \"amenities\", \"price\", \"minimum_nights\", \"maximum_nights\", \"minimum_nights_avg_ntm\",\n",
    "    \"availability_30\", \"availability_60\", \"availability_90\", \"availability_365\",\n",
    "    \"number_of_reviews\", \"maximum_nights_avg_ntm\", \"number_of_reviews_l30d\", \"first_review\",\n",
    "    \"license\", \"review_scores_rating\", \"review_scores_cleanliness\", \"review_scores_communication\",\n",
    "    \"review_scores_location\", \"review_scores_value\", \"instant_bookable\", \"reviews_per_month\"\n",
    "]\n"
   ]
  },
  {
   "cell_type": "code",
   "execution_count": 247,
   "metadata": {},
   "outputs": [
    {
     "data": {
      "text/html": [
       "<div>\n",
       "<style scoped>\n",
       "    .dataframe tbody tr th:only-of-type {\n",
       "        vertical-align: middle;\n",
       "    }\n",
       "\n",
       "    .dataframe tbody tr th {\n",
       "        vertical-align: top;\n",
       "    }\n",
       "\n",
       "    .dataframe thead th {\n",
       "        text-align: right;\n",
       "    }\n",
       "</style>\n",
       "<table border=\"1\" class=\"dataframe\">\n",
       "  <thead>\n",
       "    <tr style=\"text-align: right;\">\n",
       "      <th></th>\n",
       "      <th>id</th>\n",
       "      <th>last_scraped</th>\n",
       "      <th>source</th>\n",
       "      <th>name</th>\n",
       "      <th>description</th>\n",
       "      <th>neighborhood_overview</th>\n",
       "      <th>host_name</th>\n",
       "      <th>host_since</th>\n",
       "      <th>host_location</th>\n",
       "      <th>host_about</th>\n",
       "      <th>...</th>\n",
       "      <th>number_of_reviews_l30d</th>\n",
       "      <th>first_review</th>\n",
       "      <th>license</th>\n",
       "      <th>review_scores_rating</th>\n",
       "      <th>review_scores_cleanliness</th>\n",
       "      <th>review_scores_communication</th>\n",
       "      <th>review_scores_location</th>\n",
       "      <th>review_scores_value</th>\n",
       "      <th>instant_bookable</th>\n",
       "      <th>reviews_per_month</th>\n",
       "    </tr>\n",
       "  </thead>\n",
       "  <tbody>\n",
       "    <tr>\n",
       "      <th>0</th>\n",
       "      <td>10595</td>\n",
       "      <td>2024-09-23</td>\n",
       "      <td>city scrape</td>\n",
       "      <td>3 bedrooms, 2 bathrooms, 2nd floor with elevator</td>\n",
       "      <td>The apartment is 3-bedroom apartment with 2-ba...</td>\n",
       "      <td>Ampelokipi district is nice multinational and ...</td>\n",
       "      <td>Emmanouil</td>\n",
       "      <td>2009-09-08</td>\n",
       "      <td>Athens, Greece</td>\n",
       "      <td>Athens Quality Apartments is a company started...</td>\n",
       "      <td>...</td>\n",
       "      <td>0</td>\n",
       "      <td>2011-05-20</td>\n",
       "      <td>00002433180</td>\n",
       "      <td>4.87</td>\n",
       "      <td>4.85</td>\n",
       "      <td>4.91</td>\n",
       "      <td>4.58</td>\n",
       "      <td>4.75</td>\n",
       "      <td>t</td>\n",
       "      <td>0.33</td>\n",
       "    </tr>\n",
       "    <tr>\n",
       "      <th>1</th>\n",
       "      <td>10990</td>\n",
       "      <td>2024-09-23</td>\n",
       "      <td>city scrape</td>\n",
       "      <td>Athens Quality Apartments - Deluxe Apartment</td>\n",
       "      <td>Athens Quality Apartments - Deluxe apartment i...</td>\n",
       "      <td>Ampelokipi district is nice multinational and ...</td>\n",
       "      <td>Emmanouil</td>\n",
       "      <td>2009-09-08</td>\n",
       "      <td>Athens, Greece</td>\n",
       "      <td>Athens Quality Apartments is a company started...</td>\n",
       "      <td>...</td>\n",
       "      <td>0</td>\n",
       "      <td>2012-09-06</td>\n",
       "      <td>00002433169</td>\n",
       "      <td>4.83</td>\n",
       "      <td>4.85</td>\n",
       "      <td>4.90</td>\n",
       "      <td>4.80</td>\n",
       "      <td>4.75</td>\n",
       "      <td>t</td>\n",
       "      <td>0.56</td>\n",
       "    </tr>\n",
       "    <tr>\n",
       "      <th>2</th>\n",
       "      <td>10993</td>\n",
       "      <td>2024-09-23</td>\n",
       "      <td>city scrape</td>\n",
       "      <td>Athens Quality Apartments - Studio</td>\n",
       "      <td>The Studio is an &lt;br /&gt;-excellent located &lt;br ...</td>\n",
       "      <td>Ampelokipi district is nice multinational and ...</td>\n",
       "      <td>Emmanouil</td>\n",
       "      <td>2009-09-08</td>\n",
       "      <td>Athens, Greece</td>\n",
       "      <td>Athens Quality Apartments is a company started...</td>\n",
       "      <td>...</td>\n",
       "      <td>0</td>\n",
       "      <td>2012-09-24</td>\n",
       "      <td>00002433010</td>\n",
       "      <td>4.85</td>\n",
       "      <td>4.93</td>\n",
       "      <td>4.97</td>\n",
       "      <td>4.79</td>\n",
       "      <td>4.78</td>\n",
       "      <td>t</td>\n",
       "      <td>0.73</td>\n",
       "    </tr>\n",
       "    <tr>\n",
       "      <th>3</th>\n",
       "      <td>10995</td>\n",
       "      <td>2024-09-23</td>\n",
       "      <td>city scrape</td>\n",
       "      <td>AQA-No2 1-bedroom, smart tv, fiber connection,</td>\n",
       "      <td>AQA No2 is 1-bedroom apartment (47m2), on the ...</td>\n",
       "      <td>Ampelokipi district is nice multinational and ...</td>\n",
       "      <td>Emmanouil</td>\n",
       "      <td>2009-09-08</td>\n",
       "      <td>Athens, Greece</td>\n",
       "      <td>Athens Quality Apartments is a company started...</td>\n",
       "      <td>...</td>\n",
       "      <td>0</td>\n",
       "      <td>2010-07-08</td>\n",
       "      <td>00002433153</td>\n",
       "      <td>4.83</td>\n",
       "      <td>4.91</td>\n",
       "      <td>4.89</td>\n",
       "      <td>4.82</td>\n",
       "      <td>4.82</td>\n",
       "      <td>t</td>\n",
       "      <td>0.21</td>\n",
       "    </tr>\n",
       "    <tr>\n",
       "      <th>4</th>\n",
       "      <td>27262</td>\n",
       "      <td>2024-09-23</td>\n",
       "      <td>city scrape</td>\n",
       "      <td>AQA-No7, Great mattress, high speed internet</td>\n",
       "      <td>THE MATTRESS - KING KOIL - Camden Luxury 160x2...</td>\n",
       "      <td>NaN</td>\n",
       "      <td>Emmanouil</td>\n",
       "      <td>2009-09-08</td>\n",
       "      <td>Athens, Greece</td>\n",
       "      <td>Athens Quality Apartments is a company started...</td>\n",
       "      <td>...</td>\n",
       "      <td>0</td>\n",
       "      <td>2012-09-21</td>\n",
       "      <td>00002433111</td>\n",
       "      <td>4.84</td>\n",
       "      <td>4.96</td>\n",
       "      <td>4.96</td>\n",
       "      <td>4.75</td>\n",
       "      <td>4.71</td>\n",
       "      <td>t</td>\n",
       "      <td>0.17</td>\n",
       "    </tr>\n",
       "    <tr>\n",
       "      <th>...</th>\n",
       "      <td>...</td>\n",
       "      <td>...</td>\n",
       "      <td>...</td>\n",
       "      <td>...</td>\n",
       "      <td>...</td>\n",
       "      <td>...</td>\n",
       "      <td>...</td>\n",
       "      <td>...</td>\n",
       "      <td>...</td>\n",
       "      <td>...</td>\n",
       "      <td>...</td>\n",
       "      <td>...</td>\n",
       "      <td>...</td>\n",
       "      <td>...</td>\n",
       "      <td>...</td>\n",
       "      <td>...</td>\n",
       "      <td>...</td>\n",
       "      <td>...</td>\n",
       "      <td>...</td>\n",
       "      <td>...</td>\n",
       "      <td>...</td>\n",
       "    </tr>\n",
       "    <tr>\n",
       "      <th>14132</th>\n",
       "      <td>1249944747704827637</td>\n",
       "      <td>2024-09-23</td>\n",
       "      <td>city scrape</td>\n",
       "      <td>Vaios Art Residence</td>\n",
       "      <td>Welcome to Vaios Art Residence, a spacious and...</td>\n",
       "      <td>Pedion Areos is a lively and culturally rich n...</td>\n",
       "      <td>Polikratos</td>\n",
       "      <td>2022-10-17</td>\n",
       "      <td>Athens, Greece</td>\n",
       "      <td>NaN</td>\n",
       "      <td>...</td>\n",
       "      <td>0</td>\n",
       "      <td>NaN</td>\n",
       "      <td>00002503553</td>\n",
       "      <td>NaN</td>\n",
       "      <td>NaN</td>\n",
       "      <td>NaN</td>\n",
       "      <td>NaN</td>\n",
       "      <td>NaN</td>\n",
       "      <td>t</td>\n",
       "      <td>NaN</td>\n",
       "    </tr>\n",
       "    <tr>\n",
       "      <th>14133</th>\n",
       "      <td>1250012048760328092</td>\n",
       "      <td>2024-09-23</td>\n",
       "      <td>city scrape</td>\n",
       "      <td>Studio apartment in trendy Koukaki, Athens</td>\n",
       "      <td>1 bedroom 5th floor apartment, in a peaceful s...</td>\n",
       "      <td>NaN</td>\n",
       "      <td>Frehiwot</td>\n",
       "      <td>2022-05-04</td>\n",
       "      <td>NaN</td>\n",
       "      <td>NaN</td>\n",
       "      <td>...</td>\n",
       "      <td>0</td>\n",
       "      <td>NaN</td>\n",
       "      <td>00002925861</td>\n",
       "      <td>NaN</td>\n",
       "      <td>NaN</td>\n",
       "      <td>NaN</td>\n",
       "      <td>NaN</td>\n",
       "      <td>NaN</td>\n",
       "      <td>f</td>\n",
       "      <td>NaN</td>\n",
       "    </tr>\n",
       "    <tr>\n",
       "      <th>14134</th>\n",
       "      <td>1250050091910224971</td>\n",
       "      <td>2024-09-23</td>\n",
       "      <td>city scrape</td>\n",
       "      <td>Charm Fashion</td>\n",
       "      <td>Enjoy a stylish home in this downtown home.</td>\n",
       "      <td>NaN</td>\n",
       "      <td>I Home</td>\n",
       "      <td>2018-09-14</td>\n",
       "      <td>Athens, Greece</td>\n",
       "      <td>NaN</td>\n",
       "      <td>...</td>\n",
       "      <td>0</td>\n",
       "      <td>NaN</td>\n",
       "      <td>Exempt</td>\n",
       "      <td>NaN</td>\n",
       "      <td>NaN</td>\n",
       "      <td>NaN</td>\n",
       "      <td>NaN</td>\n",
       "      <td>NaN</td>\n",
       "      <td>t</td>\n",
       "      <td>NaN</td>\n",
       "    </tr>\n",
       "    <tr>\n",
       "      <th>14135</th>\n",
       "      <td>1250102024274955611</td>\n",
       "      <td>2024-09-23</td>\n",
       "      <td>city scrape</td>\n",
       "      <td>Central Athens Apartment</td>\n",
       "      <td>Cental and spacious apartment with high speed ...</td>\n",
       "      <td>The apartment is located in the neighborhood o...</td>\n",
       "      <td>Flo</td>\n",
       "      <td>2016-08-22</td>\n",
       "      <td>Athens, Greece</td>\n",
       "      <td>Dear future guests!\\nMy name is Flora. I am or...</td>\n",
       "      <td>...</td>\n",
       "      <td>0</td>\n",
       "      <td>NaN</td>\n",
       "      <td>00002886603</td>\n",
       "      <td>NaN</td>\n",
       "      <td>NaN</td>\n",
       "      <td>NaN</td>\n",
       "      <td>NaN</td>\n",
       "      <td>NaN</td>\n",
       "      <td>f</td>\n",
       "      <td>NaN</td>\n",
       "    </tr>\n",
       "    <tr>\n",
       "      <th>14136</th>\n",
       "      <td>1250198708572511328</td>\n",
       "      <td>2024-09-23</td>\n",
       "      <td>city scrape</td>\n",
       "      <td>Athens central apartment close to metro new &amp; ...</td>\n",
       "      <td>Cental, newly renovated and cozy appartment wi...</td>\n",
       "      <td>The apartment is located in the neighborhood o...</td>\n",
       "      <td>Flo</td>\n",
       "      <td>2016-08-22</td>\n",
       "      <td>Athens, Greece</td>\n",
       "      <td>Dear future guests!\\nMy name is Flora. I am or...</td>\n",
       "      <td>...</td>\n",
       "      <td>0</td>\n",
       "      <td>NaN</td>\n",
       "      <td>00002886619</td>\n",
       "      <td>NaN</td>\n",
       "      <td>NaN</td>\n",
       "      <td>NaN</td>\n",
       "      <td>NaN</td>\n",
       "      <td>NaN</td>\n",
       "      <td>f</td>\n",
       "      <td>NaN</td>\n",
       "    </tr>\n",
       "  </tbody>\n",
       "</table>\n",
       "<p>14137 rows × 50 columns</p>\n",
       "</div>"
      ],
      "text/plain": [
       "                        id last_scraped       source  \\\n",
       "0                    10595   2024-09-23  city scrape   \n",
       "1                    10990   2024-09-23  city scrape   \n",
       "2                    10993   2024-09-23  city scrape   \n",
       "3                    10995   2024-09-23  city scrape   \n",
       "4                    27262   2024-09-23  city scrape   \n",
       "...                    ...          ...          ...   \n",
       "14132  1249944747704827637   2024-09-23  city scrape   \n",
       "14133  1250012048760328092   2024-09-23  city scrape   \n",
       "14134  1250050091910224971   2024-09-23  city scrape   \n",
       "14135  1250102024274955611   2024-09-23  city scrape   \n",
       "14136  1250198708572511328   2024-09-23  city scrape   \n",
       "\n",
       "                                                    name  \\\n",
       "0       3 bedrooms, 2 bathrooms, 2nd floor with elevator   \n",
       "1           Athens Quality Apartments - Deluxe Apartment   \n",
       "2                     Athens Quality Apartments - Studio   \n",
       "3         AQA-No2 1-bedroom, smart tv, fiber connection,   \n",
       "4           AQA-No7, Great mattress, high speed internet   \n",
       "...                                                  ...   \n",
       "14132                                Vaios Art Residence   \n",
       "14133         Studio apartment in trendy Koukaki, Athens   \n",
       "14134                                      Charm Fashion   \n",
       "14135                           Central Athens Apartment   \n",
       "14136  Athens central apartment close to metro new & ...   \n",
       "\n",
       "                                             description  \\\n",
       "0      The apartment is 3-bedroom apartment with 2-ba...   \n",
       "1      Athens Quality Apartments - Deluxe apartment i...   \n",
       "2      The Studio is an <br />-excellent located <br ...   \n",
       "3      AQA No2 is 1-bedroom apartment (47m2), on the ...   \n",
       "4      THE MATTRESS - KING KOIL - Camden Luxury 160x2...   \n",
       "...                                                  ...   \n",
       "14132  Welcome to Vaios Art Residence, a spacious and...   \n",
       "14133  1 bedroom 5th floor apartment, in a peaceful s...   \n",
       "14134        Enjoy a stylish home in this downtown home.   \n",
       "14135  Cental and spacious apartment with high speed ...   \n",
       "14136  Cental, newly renovated and cozy appartment wi...   \n",
       "\n",
       "                                   neighborhood_overview   host_name  \\\n",
       "0      Ampelokipi district is nice multinational and ...   Emmanouil   \n",
       "1      Ampelokipi district is nice multinational and ...   Emmanouil   \n",
       "2      Ampelokipi district is nice multinational and ...   Emmanouil   \n",
       "3      Ampelokipi district is nice multinational and ...   Emmanouil   \n",
       "4                                                    NaN   Emmanouil   \n",
       "...                                                  ...         ...   \n",
       "14132  Pedion Areos is a lively and culturally rich n...  Polikratos   \n",
       "14133                                                NaN    Frehiwot   \n",
       "14134                                                NaN      I Home   \n",
       "14135  The apartment is located in the neighborhood o...         Flo   \n",
       "14136  The apartment is located in the neighborhood o...         Flo   \n",
       "\n",
       "       host_since   host_location  \\\n",
       "0      2009-09-08  Athens, Greece   \n",
       "1      2009-09-08  Athens, Greece   \n",
       "2      2009-09-08  Athens, Greece   \n",
       "3      2009-09-08  Athens, Greece   \n",
       "4      2009-09-08  Athens, Greece   \n",
       "...           ...             ...   \n",
       "14132  2022-10-17  Athens, Greece   \n",
       "14133  2022-05-04             NaN   \n",
       "14134  2018-09-14  Athens, Greece   \n",
       "14135  2016-08-22  Athens, Greece   \n",
       "14136  2016-08-22  Athens, Greece   \n",
       "\n",
       "                                              host_about  ...  \\\n",
       "0      Athens Quality Apartments is a company started...  ...   \n",
       "1      Athens Quality Apartments is a company started...  ...   \n",
       "2      Athens Quality Apartments is a company started...  ...   \n",
       "3      Athens Quality Apartments is a company started...  ...   \n",
       "4      Athens Quality Apartments is a company started...  ...   \n",
       "...                                                  ...  ...   \n",
       "14132                                                NaN  ...   \n",
       "14133                                                NaN  ...   \n",
       "14134                                                NaN  ...   \n",
       "14135  Dear future guests!\\nMy name is Flora. I am or...  ...   \n",
       "14136  Dear future guests!\\nMy name is Flora. I am or...  ...   \n",
       "\n",
       "      number_of_reviews_l30d first_review      license review_scores_rating  \\\n",
       "0                          0   2011-05-20  00002433180                 4.87   \n",
       "1                          0   2012-09-06  00002433169                 4.83   \n",
       "2                          0   2012-09-24  00002433010                 4.85   \n",
       "3                          0   2010-07-08  00002433153                 4.83   \n",
       "4                          0   2012-09-21  00002433111                 4.84   \n",
       "...                      ...          ...          ...                  ...   \n",
       "14132                      0          NaN  00002503553                  NaN   \n",
       "14133                      0          NaN  00002925861                  NaN   \n",
       "14134                      0          NaN       Exempt                  NaN   \n",
       "14135                      0          NaN  00002886603                  NaN   \n",
       "14136                      0          NaN  00002886619                  NaN   \n",
       "\n",
       "       review_scores_cleanliness  review_scores_communication  \\\n",
       "0                           4.85                         4.91   \n",
       "1                           4.85                         4.90   \n",
       "2                           4.93                         4.97   \n",
       "3                           4.91                         4.89   \n",
       "4                           4.96                         4.96   \n",
       "...                          ...                          ...   \n",
       "14132                        NaN                          NaN   \n",
       "14133                        NaN                          NaN   \n",
       "14134                        NaN                          NaN   \n",
       "14135                        NaN                          NaN   \n",
       "14136                        NaN                          NaN   \n",
       "\n",
       "      review_scores_location review_scores_value instant_bookable  \\\n",
       "0                       4.58                4.75                t   \n",
       "1                       4.80                4.75                t   \n",
       "2                       4.79                4.78                t   \n",
       "3                       4.82                4.82                t   \n",
       "4                       4.75                4.71                t   \n",
       "...                      ...                 ...              ...   \n",
       "14132                    NaN                 NaN                t   \n",
       "14133                    NaN                 NaN                f   \n",
       "14134                    NaN                 NaN                t   \n",
       "14135                    NaN                 NaN                f   \n",
       "14136                    NaN                 NaN                f   \n",
       "\n",
       "      reviews_per_month  \n",
       "0                  0.33  \n",
       "1                  0.56  \n",
       "2                  0.73  \n",
       "3                  0.21  \n",
       "4                  0.17  \n",
       "...                 ...  \n",
       "14132               NaN  \n",
       "14133               NaN  \n",
       "14134               NaN  \n",
       "14135               NaN  \n",
       "14136               NaN  \n",
       "\n",
       "[14137 rows x 50 columns]"
      ]
     },
     "execution_count": 247,
     "metadata": {},
     "output_type": "execute_result"
    }
   ],
   "source": [
    "# Crear un nuevo DataFrame con solo las columnas seleccionadas\n",
    "df = data[variables_a_conservar]\n",
    "df"
   ]
  },
  {
   "cell_type": "code",
   "execution_count": 248,
   "metadata": {},
   "outputs": [
    {
     "name": "stdout",
     "output_type": "stream",
     "text": [
      "<class 'pandas.core.frame.DataFrame'>\n",
      "RangeIndex: 14137 entries, 0 to 14136\n",
      "Data columns (total 50 columns):\n",
      " #   Column                       Non-Null Count  Dtype  \n",
      "---  ------                       --------------  -----  \n",
      " 0   id                           14137 non-null  int64  \n",
      " 1   last_scraped                 14137 non-null  object \n",
      " 2   source                       14137 non-null  object \n",
      " 3   name                         14137 non-null  object \n",
      " 4   description                  13834 non-null  object \n",
      " 5   neighborhood_overview        7758 non-null   object \n",
      " 6   host_name                    14137 non-null  object \n",
      " 7   host_since                   14137 non-null  object \n",
      " 8   host_location                9885 non-null   object \n",
      " 9   host_about                   7134 non-null   object \n",
      " 10  host_response_time           12676 non-null  object \n",
      " 11  host_response_rate           12676 non-null  object \n",
      " 12  host_acceptance_rate         13426 non-null  object \n",
      " 13  host_is_superhost            13212 non-null  object \n",
      " 14  host_listings_count          14137 non-null  int64  \n",
      " 15  host_total_listings_count    14137 non-null  int64  \n",
      " 16  host_verifications           14137 non-null  object \n",
      " 17  host_identity_verified       14137 non-null  object \n",
      " 18  neighbourhood_cleansed       14137 non-null  object \n",
      " 19  neighbourhood_cleansed       14137 non-null  object \n",
      " 20  latitude                     14137 non-null  float64\n",
      " 21  longitude                    14137 non-null  float64\n",
      " 22  property_type                14137 non-null  object \n",
      " 23  room_type                    14137 non-null  object \n",
      " 24  accommodates                 14137 non-null  int64  \n",
      " 25  bathrooms                    13697 non-null  float64\n",
      " 26  bathrooms_text               14118 non-null  object \n",
      " 27  bedrooms                     14076 non-null  float64\n",
      " 28  beds                         13681 non-null  float64\n",
      " 29  amenities                    14137 non-null  object \n",
      " 30  price                        13710 non-null  object \n",
      " 31  minimum_nights               14137 non-null  int64  \n",
      " 32  maximum_nights               14137 non-null  int64  \n",
      " 33  minimum_nights_avg_ntm       14137 non-null  float64\n",
      " 34  availability_30              14137 non-null  int64  \n",
      " 35  availability_60              14137 non-null  int64  \n",
      " 36  availability_90              14137 non-null  int64  \n",
      " 37  availability_365             14137 non-null  int64  \n",
      " 38  number_of_reviews            14137 non-null  int64  \n",
      " 39  maximum_nights_avg_ntm       14137 non-null  float64\n",
      " 40  number_of_reviews_l30d       14137 non-null  int64  \n",
      " 41  first_review                 12279 non-null  object \n",
      " 42  license                      13935 non-null  object \n",
      " 43  review_scores_rating         12279 non-null  float64\n",
      " 44  review_scores_cleanliness    12279 non-null  float64\n",
      " 45  review_scores_communication  12279 non-null  float64\n",
      " 46  review_scores_location       12279 non-null  float64\n",
      " 47  review_scores_value          12279 non-null  float64\n",
      " 48  instant_bookable             14137 non-null  object \n",
      " 49  reviews_per_month            12279 non-null  float64\n",
      "dtypes: float64(13), int64(12), object(25)\n",
      "memory usage: 5.4+ MB\n"
     ]
    }
   ],
   "source": [
    "df.info()"
   ]
  },
  {
   "cell_type": "code",
   "execution_count": 249,
   "metadata": {},
   "outputs": [
    {
     "data": {
      "text/plain": [
       "id                                0\n",
       "last_scraped                      0\n",
       "source                            0\n",
       "name                              0\n",
       "description                     303\n",
       "neighborhood_overview          6379\n",
       "host_name                         0\n",
       "host_since                        0\n",
       "host_location                  4252\n",
       "host_about                     7003\n",
       "host_response_time             1461\n",
       "host_response_rate             1461\n",
       "host_acceptance_rate            711\n",
       "host_is_superhost               925\n",
       "host_listings_count               0\n",
       "host_total_listings_count         0\n",
       "host_verifications                0\n",
       "host_identity_verified            0\n",
       "neighbourhood_cleansed            0\n",
       "neighbourhood_cleansed            0\n",
       "latitude                          0\n",
       "longitude                         0\n",
       "property_type                     0\n",
       "room_type                         0\n",
       "accommodates                      0\n",
       "bathrooms                       440\n",
       "bathrooms_text                   19\n",
       "bedrooms                         61\n",
       "beds                            456\n",
       "amenities                         0\n",
       "price                           427\n",
       "minimum_nights                    0\n",
       "maximum_nights                    0\n",
       "minimum_nights_avg_ntm            0\n",
       "availability_30                   0\n",
       "availability_60                   0\n",
       "availability_90                   0\n",
       "availability_365                  0\n",
       "number_of_reviews                 0\n",
       "maximum_nights_avg_ntm            0\n",
       "number_of_reviews_l30d            0\n",
       "first_review                   1858\n",
       "license                         202\n",
       "review_scores_rating           1858\n",
       "review_scores_cleanliness      1858\n",
       "review_scores_communication    1858\n",
       "review_scores_location         1858\n",
       "review_scores_value            1858\n",
       "instant_bookable                  0\n",
       "reviews_per_month              1858\n",
       "dtype: int64"
      ]
     },
     "execution_count": 249,
     "metadata": {},
     "output_type": "execute_result"
    }
   ],
   "source": [
    "#Identificar valores nulos por columna\n",
    "valores_nulos = df.isnull().sum()\n",
    "valores_nulos"
   ]
  },
  {
   "cell_type": "code",
   "execution_count": 250,
   "metadata": {},
   "outputs": [
    {
     "data": {
      "text/plain": [
       "description                     303\n",
       "neighborhood_overview          6379\n",
       "host_location                  4252\n",
       "host_about                     7003\n",
       "host_response_time             1461\n",
       "host_response_rate             1461\n",
       "host_acceptance_rate            711\n",
       "host_is_superhost               925\n",
       "bathrooms                       440\n",
       "bathrooms_text                   19\n",
       "bedrooms                         61\n",
       "beds                            456\n",
       "price                           427\n",
       "first_review                   1858\n",
       "license                         202\n",
       "review_scores_rating           1858\n",
       "review_scores_cleanliness      1858\n",
       "review_scores_communication    1858\n",
       "review_scores_location         1858\n",
       "review_scores_value            1858\n",
       "reviews_per_month              1858\n",
       "dtype: int64"
      ]
     },
     "execution_count": 250,
     "metadata": {},
     "output_type": "execute_result"
    }
   ],
   "source": [
    "#Mostrar unicamente las variables con valores nulos\n",
    "variables_con_nulos = valores_nulos[valores_nulos > 0]\n",
    "variables_con_nulos"
   ]
  },
  {
   "cell_type": "markdown",
   "metadata": {},
   "source": [
    "**Sustitución de Valores Nulos**"
   ]
  },
  {
   "cell_type": "code",
   "execution_count": 251,
   "metadata": {},
   "outputs": [],
   "source": [
    "#Copiar el dataframe Original\n",
    "df2 = df.copy()"
   ]
  },
  {
   "cell_type": "markdown",
   "metadata": {},
   "source": [
    "Variable 1 (Description): Esta variable se imputo con el método de susutituir por un string en concreto, pues asi podemos localizar cuales no tienen la descripción."
   ]
  },
  {
   "cell_type": "code",
   "execution_count": 252,
   "metadata": {},
   "outputs": [],
   "source": [
    "df2[\"description\"] = df2[\"description\"].fillna(\"No disponible\")"
   ]
  },
  {
   "cell_type": "markdown",
   "metadata": {},
   "source": [
    "Variable 2 (neighborhood_overview): Esta variable se imputo con el método de sustituir por un string en concreto, pues no afecta a un analisis y asi localizaremos cuales no tienen este dato."
   ]
  },
  {
   "cell_type": "code",
   "execution_count": 253,
   "metadata": {},
   "outputs": [],
   "source": [
    "df2[\"neighborhood_overview\"] = df2[\"neighborhood_overview\"].fillna(\"No disponible\")"
   ]
  },
  {
   "cell_type": "markdown",
   "metadata": {},
   "source": [
    "Variable 3 (host_location): Esta variable se imputo con el método de susutituir con un string en concreto, esto debido a que no afecta al analisis y asi se identifican aquellos que no contienen la variable."
   ]
  },
  {
   "cell_type": "code",
   "execution_count": 254,
   "metadata": {},
   "outputs": [],
   "source": [
    "df2[\"host_location\"] = df2[\"host_location\"].fillna(\"No disponible\")"
   ]
  },
  {
   "cell_type": "markdown",
   "metadata": {},
   "source": [
    "Variable 4 (Host_about): Esta variable se imputo con el método de susutituir con un string en concreto, esto debido a que no afecta al analisis y asi se identifican aquellos que no contienen la variable."
   ]
  },
  {
   "cell_type": "code",
   "execution_count": 255,
   "metadata": {},
   "outputs": [],
   "source": [
    "df2[\"host_about\"] = df2[\"host_about\"].fillna(\"No disponible\")"
   ]
  },
  {
   "cell_type": "markdown",
   "metadata": {},
   "source": [
    "Variable 5 (host_response_time): Esta variable se imputo con el método de la moda, esto debido a que es de tipo objeto y es una categoria, por lo que requerimos rellenarlo asi para mantener una consistencia."
   ]
  },
  {
   "cell_type": "code",
   "execution_count": 256,
   "metadata": {},
   "outputs": [],
   "source": [
    "df2[\"host_response_time\"] = df2[\"host_response_time\"].fillna(df[\"host_response_time\"].mode()[0])"
   ]
  },
  {
   "cell_type": "markdown",
   "metadata": {},
   "source": [
    "Variable 6 (host_response_rate): Esta variable se imputo con el método de la mediana, pero para realizarlo, requerimos convertir la variable de tipo objeto a tipo numerico, para asi, poder utilizarla y obtener un valor más representativo."
   ]
  },
  {
   "cell_type": "code",
   "execution_count": 257,
   "metadata": {},
   "outputs": [],
   "source": [
    "# Convertir a porcentaje numérico\n",
    "df_aux = df.copy()\n",
    "df_aux['host_response_rate'] = df['host_response_rate'].astype(str).str.rstrip('%').astype('float') / 100.0\n",
    "\n",
    "# Rellenar valores nulos con la mediana\n",
    "df2['host_response_rate'] = df2['host_response_rate'].fillna(round(df_aux['host_response_rate'].median(),1))"
   ]
  },
  {
   "cell_type": "markdown",
   "metadata": {},
   "source": [
    "Variable 7 (host_acceptance_rate): Esta variable se imputo con el método de la mediana, pero para realizarlo, requerimos convertir la variable de tipo objeto a tipo numerico, para asi, poder utilizarla y obtener un valor más representativo."
   ]
  },
  {
   "cell_type": "code",
   "execution_count": 258,
   "metadata": {},
   "outputs": [],
   "source": [
    "#Convertir a porcentaje numérico\n",
    "df_aux['host_acceptance_rate'] = df['host_acceptance_rate'].astype(str).str.rstrip('%').astype('float') / 100.0\n",
    "\n",
    "#Rellenar con la mediana\n",
    "df2['host_acceptance_rate'] = df2['host_acceptance_rate'].fillna(round(df_aux['host_acceptance_rate'].median(),1))"
   ]
  },
  {
   "cell_type": "markdown",
   "metadata": {},
   "source": [
    "Variable 8 (host_is_superhost): Esta variable se imputo con el método de sustituir con un string en concreto, esto debido a que al ser categorico booleano, se considera que si no tiene dicha variable, entonces se podrá como falso."
   ]
  },
  {
   "cell_type": "code",
   "execution_count": 259,
   "metadata": {},
   "outputs": [],
   "source": [
    "df2[\"host_is_superhost\"] = df2[\"host_is_superhost\"].fillna(\"f\")"
   ]
  },
  {
   "cell_type": "markdown",
   "metadata": {},
   "source": [
    "Variable 9 (bathrooms): Esta variable se imputo con el método de la mediana, esto debido a que es el método más representativo y más robusto al sesgo."
   ]
  },
  {
   "cell_type": "code",
   "execution_count": 260,
   "metadata": {},
   "outputs": [],
   "source": [
    "df2[\"bathrooms\"] = df2[\"bathrooms\"].fillna(round(df[\"bathrooms\"].median(),1))"
   ]
  },
  {
   "cell_type": "markdown",
   "metadata": {},
   "source": [
    "Variable 10 (bathrooms_text): Esta variable se imputo con el método de sustituir con una string especifica, esto debido a que asi reflejamos la falta de información sin afectar el análisis ."
   ]
  },
  {
   "cell_type": "code",
   "execution_count": 261,
   "metadata": {},
   "outputs": [],
   "source": [
    "df2[\"bathrooms_text\"] = df2[\"bathrooms_text\"].fillna(\"No expecificado\")"
   ]
  },
  {
   "cell_type": "markdown",
   "metadata": {},
   "source": [
    "Variable 11 (bedrooms): Esta variable se imputo con el método de la mediana, esto debido a que es el método que mejor se adapta para el comportamiento de la variable y es más resisitente al sesgo."
   ]
  },
  {
   "cell_type": "code",
   "execution_count": 262,
   "metadata": {},
   "outputs": [],
   "source": [
    "df2[\"bedrooms\"] = df2[\"bedrooms\"].fillna(round(df[\"bedrooms\"].median(),1))"
   ]
  },
  {
   "cell_type": "markdown",
   "metadata": {},
   "source": [
    "Variable 12 (beds): Esta variable se imputo con el método de la mediana, esto debido a que es el método que mejor se adapta para el comportamiento de la variable y es más resisitente al sesgo."
   ]
  },
  {
   "cell_type": "code",
   "execution_count": 263,
   "metadata": {},
   "outputs": [],
   "source": [
    "df2[\"beds\"] = df2[\"beds\"].fillna(round(df[\"beds\"].median(),1))"
   ]
  },
  {
   "cell_type": "markdown",
   "metadata": {},
   "source": [
    "Variable 13 (price): Esta variable se imputo con el método de la mediana, pero para realizarlo, la variable se tuvo que convertir a una variable de tipo numerico y realizarlo mediante su \"room_type\"."
   ]
  },
  {
   "cell_type": "code",
   "execution_count": 264,
   "metadata": {},
   "outputs": [
    {
     "name": "stderr",
     "output_type": "stream",
     "text": [
      "<>:2: SyntaxWarning: invalid escape sequence '\\$'\n",
      "<>:2: SyntaxWarning: invalid escape sequence '\\$'\n",
      "C:\\Users\\ahaci\\AppData\\Local\\Temp\\ipykernel_20020\\2829494993.py:2: SyntaxWarning: invalid escape sequence '\\$'\n",
      "  df_aux['price'] = df['price'].replace('[\\$,]', '', regex=True).astype(float)\n"
     ]
    }
   ],
   "source": [
    "# Convertir la variable \"price\" a numérico\n",
    "df_aux['price'] = df['price'].replace('[\\$,]', '', regex=True).astype(float)\n",
    "\n",
    "# Rellenar los valores nulos de \"price\" con la mediana basada en \"room_type\"\n",
    "df2['price'] = df_aux.groupby('room_type')['price'].transform(lambda x: x.fillna(x.median()))"
   ]
  },
  {
   "cell_type": "markdown",
   "metadata": {},
   "source": [
    "Variable 14 (first_review): Esta variable se imputo con el método de sustituir con un string en especifico, y se puso una fecha ficticia para identificar cuales fueron los valores faltantes."
   ]
  },
  {
   "cell_type": "code",
   "execution_count": 265,
   "metadata": {},
   "outputs": [],
   "source": [
    "df2[\"first_review\"] = df2[\"first_review\"].fillna(\"9999-01-01\")"
   ]
  },
  {
   "cell_type": "markdown",
   "metadata": {},
   "source": [
    "Variable 15 (review_scores_rating): Esta variable se imputo con el método de la mediana, esto debido a que rellena con un valor representativo y más robusto al sesgo."
   ]
  },
  {
   "cell_type": "code",
   "execution_count": 266,
   "metadata": {},
   "outputs": [],
   "source": [
    "df2[\"review_scores_rating\"] = df2[\"review_scores_rating\"].fillna(round(df[\"review_scores_rating\"].median(),1))"
   ]
  },
  {
   "cell_type": "markdown",
   "metadata": {},
   "source": [
    "Variable 16 (review_scores_cleanliness): Esta variable se imputo con el método de la mediana, esto debido a que se rellena con un puntaje numerico más representativo."
   ]
  },
  {
   "cell_type": "code",
   "execution_count": 267,
   "metadata": {},
   "outputs": [],
   "source": [
    "df2[\"review_scores_cleanliness\"] = df2[\"review_scores_cleanliness\"].fillna(round(df[\"review_scores_cleanliness\"].median(),1))"
   ]
  },
  {
   "cell_type": "markdown",
   "metadata": {},
   "source": [
    "Variable 17 (review_scores_communication): Esta variable se imputo con el método de la mediana, esto debido a que se rellena con un puntaje numerico más representativo."
   ]
  },
  {
   "cell_type": "code",
   "execution_count": 268,
   "metadata": {},
   "outputs": [],
   "source": [
    "df2[\"review_scores_communication\"] = df2[\"review_scores_communication\"].fillna(round(df[\"review_scores_communication\"].median(),1))"
   ]
  },
  {
   "cell_type": "markdown",
   "metadata": {},
   "source": [
    "Variable 18 (review_scores_location): Esta variable se imputo con el método de la mediana, esto debido a que se rellena con un puntaje numerico más representativo."
   ]
  },
  {
   "cell_type": "code",
   "execution_count": 269,
   "metadata": {},
   "outputs": [],
   "source": [
    "df2[\"review_scores_location\"] = df2[\"review_scores_location\"].fillna(round(df[\"review_scores_location\"].median(),1))"
   ]
  },
  {
   "cell_type": "markdown",
   "metadata": {},
   "source": [
    "Variable 19 (review_scores_value): Esta variable se imputo con el método de la mediana, esto debido a que se rellena con un puntaje numerico más representativo."
   ]
  },
  {
   "cell_type": "code",
   "execution_count": 270,
   "metadata": {},
   "outputs": [],
   "source": [
    "df2[\"review_scores_value\"] = df2[\"review_scores_value\"].fillna(round(df[\"review_scores_value\"].median(),1))"
   ]
  },
  {
   "cell_type": "markdown",
   "metadata": {},
   "source": [
    "Variable 20 (license): Esta variable se imputo con el método de sustituir con un string en especifico, esto debido a que asi podemos reflejar la falta del dato sin que se elimine."
   ]
  },
  {
   "cell_type": "code",
   "execution_count": 271,
   "metadata": {},
   "outputs": [],
   "source": [
    "df2[\"license\"] = df2[\"license\"].fillna(\"No disponible\")"
   ]
  },
  {
   "cell_type": "markdown",
   "metadata": {},
   "source": [
    "Variable 21 (reviews_per_month): Esta variable se imputo con el método de sustituir por un valor numerico fijo, esto debido a que, si no hay registro de las reseñas, se tomará como si no hubiera reseñas."
   ]
  },
  {
   "cell_type": "code",
   "execution_count": 272,
   "metadata": {},
   "outputs": [],
   "source": [
    "df2[\"reviews_per_month\"] = df2[\"reviews_per_month\"].fillna(0)"
   ]
  },
  {
   "cell_type": "markdown",
   "metadata": {},
   "source": [
    "**Verificación de valores nulos**"
   ]
  },
  {
   "cell_type": "code",
   "execution_count": 273,
   "metadata": {},
   "outputs": [
    {
     "data": {
      "text/plain": [
       "id                             0\n",
       "last_scraped                   0\n",
       "source                         0\n",
       "name                           0\n",
       "description                    0\n",
       "neighborhood_overview          0\n",
       "host_name                      0\n",
       "host_since                     0\n",
       "host_location                  0\n",
       "host_about                     0\n",
       "host_response_time             0\n",
       "host_response_rate             0\n",
       "host_acceptance_rate           0\n",
       "host_is_superhost              0\n",
       "host_listings_count            0\n",
       "host_total_listings_count      0\n",
       "host_verifications             0\n",
       "host_identity_verified         0\n",
       "neighbourhood_cleansed         0\n",
       "neighbourhood_cleansed         0\n",
       "latitude                       0\n",
       "longitude                      0\n",
       "property_type                  0\n",
       "room_type                      0\n",
       "accommodates                   0\n",
       "bathrooms                      0\n",
       "bathrooms_text                 0\n",
       "bedrooms                       0\n",
       "beds                           0\n",
       "amenities                      0\n",
       "price                          0\n",
       "minimum_nights                 0\n",
       "maximum_nights                 0\n",
       "minimum_nights_avg_ntm         0\n",
       "availability_30                0\n",
       "availability_60                0\n",
       "availability_90                0\n",
       "availability_365               0\n",
       "number_of_reviews              0\n",
       "maximum_nights_avg_ntm         0\n",
       "number_of_reviews_l30d         0\n",
       "first_review                   0\n",
       "license                        0\n",
       "review_scores_rating           0\n",
       "review_scores_cleanliness      0\n",
       "review_scores_communication    0\n",
       "review_scores_location         0\n",
       "review_scores_value            0\n",
       "instant_bookable               0\n",
       "reviews_per_month              0\n",
       "dtype: int64"
      ]
     },
     "execution_count": 273,
     "metadata": {},
     "output_type": "execute_result"
    }
   ],
   "source": [
    "#Identificar valores nulos por columna\n",
    "valores_nulos=df2.isnull().sum()\n",
    "valores_nulos"
   ]
  },
  {
   "cell_type": "code",
   "execution_count": 274,
   "metadata": {},
   "outputs": [
    {
     "data": {
      "text/plain": [
       "Series([], dtype: int64)"
      ]
     },
     "execution_count": 274,
     "metadata": {},
     "output_type": "execute_result"
    }
   ],
   "source": [
    "#Mostrar unicamente las variables con valores nulos\n",
    "variables_con_nulos = valores_nulos[valores_nulos > 0]\n",
    "variables_con_nulos"
   ]
  },
  {
   "cell_type": "code",
   "execution_count": 275,
   "metadata": {},
   "outputs": [
    {
     "data": {
      "text/plain": [
       "np.int64(0)"
      ]
     },
     "execution_count": 275,
     "metadata": {},
     "output_type": "execute_result"
    }
   ],
   "source": [
    "valores_nulos = df2.isnull().sum().sum()\n",
    "valores_nulos"
   ]
  },
  {
   "cell_type": "markdown",
   "metadata": {},
   "source": [
    "**Guardado del dataset limpio**"
   ]
  },
  {
   "cell_type": "code",
   "execution_count": 276,
   "metadata": {},
   "outputs": [],
   "source": [
    "df2.to_csv(\"Atenas,Grecia_Limpio.csv\")"
   ]
  }
 ],
 "metadata": {
  "kernelspec": {
   "display_name": "Python 3",
   "language": "python",
   "name": "python3"
  },
  "language_info": {
   "codemirror_mode": {
    "name": "ipython",
    "version": 3
   },
   "file_extension": ".py",
   "mimetype": "text/x-python",
   "name": "python",
   "nbconvert_exporter": "python",
   "pygments_lexer": "ipython3",
   "version": "3.13.0"
  }
 },
 "nbformat": 4,
 "nbformat_minor": 2
}
